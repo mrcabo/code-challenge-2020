{
 "cells": [
  {
   "cell_type": "markdown",
   "metadata": {},
   "source": [
    "# Data exploration"
   ]
  },
  {
   "cell_type": "code",
   "execution_count": null,
   "metadata": {},
   "outputs": [],
   "source": [
    "import numpy as np\n",
    "import pandas as pd\n",
    "import matplotlib.pyplot as plt\n",
    "import seaborn as sns\n",
    "from pathlib import Path\n",
    "import dask.dataframe as dd\n",
    "from dask.distributed import Client, progress\n",
    "import dask as d"
   ]
  },
  {
   "cell_type": "markdown",
   "metadata": {},
   "source": [
    "## Create dask dataframe"
   ]
  },
  {
   "cell_type": "code",
   "execution_count": null,
   "metadata": {
    "tags": []
   },
   "outputs": [],
   "source": [
    "in_csv = '/home/diego/Coding/code-challenge-2020/data_root/raw/wine_dataset.csv'\n",
    "\n",
    "client = Client(n_workers=2, threads_per_worker=2, memory_limit='1GB')\n"
   ]
  },
  {
   "cell_type": "code",
   "execution_count": null,
   "metadata": {},
   "outputs": [],
   "source": [
    "\n",
    "ddf = dd.read_csv(in_csv, blocksize=1e6)\n",
    "ddf = ddf.set_index('Unnamed: 0')\n",
    "ddf.head()\n",
    "#ddf.dtypes"
   ]
  },
  {
   "cell_type": "code",
   "execution_count": null,
   "metadata": {},
   "outputs": [],
   "source": [
    "# See correltion of numerical features and number of outliers\n",
    "cols = ['points', 'price']\n",
    "sns.pairplot(ddf[cols].compute())"
   ]
  },
  {
   "cell_type": "markdown",
   "metadata": {},
   "source": [
    "## Preprocess dataset. Dealing with NaN values"
   ]
  },
  {
   "cell_type": "code",
   "execution_count": null,
   "metadata": {},
   "outputs": [],
   "source": [
    "# There is very few complete rows\n",
    "print(\"Original size: {}\".format(len(ddf), len(ddf.columns)))\n",
    "print(\"Number of rows with 0 NaN values: {}\".format(len(ddf.dropna())))"
   ]
  },
  {
   "cell_type": "code",
   "execution_count": null,
   "metadata": {},
   "outputs": [],
   "source": [
    "df2 = ddf.isna().sum().compute()\n",
    "print(\"Ratio of NaNs in each column:\\n\\n{}\".format(df2/len(ddf)))\n",
    "\n",
    "g = sns.barplot(x=df2.index, y=df2)\n",
    "plt.setp(g.get_xticklabels(), rotation=45, ha='right')\n",
    "g.set(title=\"Number of NaN per category\")\n"
   ]
  },
  {
   "cell_type": "code",
   "execution_count": null,
   "metadata": {},
   "outputs": [],
   "source": [
    "print(\"Number of different designations: {}\".format(len(ddf.groupby(['designation']).size())))"
   ]
  },
  {
   "cell_type": "markdown",
   "metadata": {},
   "source": [
    "Region_2 column should be dropped directly, there is too little realible data. Designation column has too many NaN values and too many unique values. Better to drop column. Finally, the description column would need some NLP processing so we will drop it for now (possible model improvement if using some kind of NLP on this col e.g. bag of words)."
   ]
  },
  {
   "cell_type": "markdown",
   "metadata": {},
   "source": [
    "### Dealing with NaN values in categorical columns"
   ]
  },
  {
   "cell_type": "markdown",
   "metadata": {},
   "source": [
    "We can see that if the information about a country is missing, then the province and region values are missing as well. Thus, is not possible to fill country values. We will use an 'Unknown' type to fill in missing values."
   ]
  },
  {
   "cell_type": "code",
   "execution_count": null,
   "metadata": {},
   "outputs": [],
   "source": [
    "# If country is missing, province, and regions are missing as well.\n",
    "print(len(ddf.loc[(ddf['country'].isnull()) & (~ddf['province'].isnull())]))\n",
    "print(len(ddf.loc[(ddf['province'].isnull()) & (~ddf['country'].isnull())])) # Cant guess province based on country\n",
    "ddf['country'] = ddf['country'].fillna('Unknown')\n",
    "ddf['province'] = ddf['province'].fillna('Unknown')\n"
   ]
  },
  {
   "cell_type": "markdown",
   "metadata": {},
   "source": [
    "We try to see if we can fill some NaN values of region_1 with information from region_2, since region_2 contains region_1. For example using most common value for a specific region_2 to fill region_1 missing value. However there is 100% overlap of missing values. Maybe in bigger dataset but for now is not an option.\n",
    "\n",
    "However we can try to fill missing values using the 'province' column. Most common value for each province will be used. However since there is so many NaN values in region_1, lots of provinces don't have a most frequent region. This makes it so only a few rows are filled with most frequent region in province, rest are labeled as Unknown."
   ]
  },
  {
   "cell_type": "code",
   "execution_count": null,
   "metadata": {},
   "outputs": [],
   "source": [
    "# The custom aggregate mode function works. But very few cases where it is useful.\n",
    "def chunk(s):\n",
    "    return s.value_counts()\n",
    "\n",
    "\n",
    "def agg(s):\n",
    "    return s.apply(lambda s: s.groupby(level=-1).sum())\n",
    "\n",
    "\n",
    "def finalize(s):\n",
    "    level = list(range(s.index.nlevels - 1))\n",
    "    return (\n",
    "        s.groupby(level=level)\n",
    "        .apply(lambda s: s.reset_index(level=level, drop=True).idxmax())\n",
    "    )\n",
    "\n",
    "mode = dd.Aggregation('mode', chunk, agg, finalize)\n",
    "most_common_region=ddf.groupby(['province']).agg({'region_1': mode}).compute()\n",
    "\n",
    "\n",
    "ddf['region_1']=ddf.apply(lambda x: most_common_region.loc[x.province, 'region_1'] if x.province in most_common_region['region_1'].index else 'Unknown', axis=1).where(ddf['region_1'].isna(), ddf['region_1'])\n",
    "\n"
   ]
  },
  {
   "cell_type": "markdown",
   "metadata": {},
   "source": [
    "We should try to merge twitter handle and taster name since they are equivalent. However, there is no additional information in taster_twitter_handle column. It is possible that in the bigger dataset this merge can be done more effectively. But for now we will drop the 'taster_twitter_handle' column since it has more NaN values."
   ]
  },
  {
   "cell_type": "code",
   "execution_count": null,
   "metadata": {},
   "outputs": [],
   "source": [
    "print(len(ddf[ddf['taster_name'].isnull()  & ~ddf['taster_twitter_handle'].isnull()].compute()))\n",
    "ddf['taster_name'] = ddf['taster_name'].fillna('Unknown')"
   ]
  },
  {
   "cell_type": "markdown",
   "metadata": {},
   "source": [
    "We see that the title column has mostly unique values, which make this variable of little value. We will drop it for now."
   ]
  },
  {
   "cell_type": "code",
   "execution_count": null,
   "metadata": {},
   "outputs": [],
   "source": [
    "len(ddf['title'].unique())"
   ]
  },
  {
   "cell_type": "markdown",
   "metadata": {},
   "source": [
    "### Filling price data"
   ]
  },
  {
   "cell_type": "markdown",
   "metadata": {},
   "source": [
    "We try to fill price values first using the average price in the province. If that can't be obtained, we used the global average price."
   ]
  },
  {
   "cell_type": "code",
   "execution_count": null,
   "metadata": {},
   "outputs": [],
   "source": [
    "mean_prices = ddf.groupby(['province'])['price'].mean().compute()\n",
    "global_mean = ddf['price'].mean().compute()\n",
    "mean_prices = mean_prices.fillna(global_mean)\n",
    "ddf['price']=ddf.apply(lambda x: mean_prices[x['province']], axis=1, meta=('x', 'f8')).where(ddf['price'].isna(),ddf['price'])"
   ]
  },
  {
   "cell_type": "code",
   "execution_count": null,
   "metadata": {
    "tags": []
   },
   "outputs": [],
   "source": [
    "df2 = ddf.drop(['description', 'designation','region_2', 'taster_twitter_handle', 'title'], axis=1)\n",
    "print(\"Ratio of NaNs in each column:\\n\\n{}\".format(df2.isna().sum().compute()/len(ddf)))\n",
    "df2.head()"
   ]
  }
 ],
 "metadata": {
  "kernelspec": {
   "display_name": "Python 3.8.6  ('venv': venv)",
   "name": "python386jvsc74a57bd0b73498e9f68ae58dde2d0ad7bf906ec6ce08a80affbfa7e297dc61534bdf7d7e"
  },
  "language_info": {
   "name": "python",
   "version": ""
  }
 },
 "nbformat": 4,
 "nbformat_minor": 4
}